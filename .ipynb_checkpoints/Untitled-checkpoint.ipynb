{
 "cells": [
  {
   "cell_type": "markdown",
   "id": "37c7f29d",
   "metadata": {},
   "source": [
    "# Session 1 : CHATGPT FOR DEVELOPERS"
   ]
  },
  {
   "cell_type": "markdown",
   "id": "25af8339",
   "metadata": {},
   "source": [
    "- It is based on LLM (Large Language Models)\n",
    "- November 30,2022\n",
    "- one of the fastest growing App on the Internet \n",
    "- hits 100M users in 2 months\n"
   ]
  },
  {
   "cell_type": "markdown",
   "id": "b0036e91",
   "metadata": {},
   "source": [
    "Version used : GPT-3.5 ( large language models)\n",
    "- based on Neural Networks\n",
    "- trained on 175 Billion parameters\n",
    "- here each input is changed into tokens (in GPT there are 500 Billion tokens)\n",
    "- it also have restrictions on the inputs, if the input is illegal then it will not give output.\n",
    "- Pre training data set + last trained model\n"
   ]
  },
  {
   "cell_type": "markdown",
   "id": "8533ee4f",
   "metadata": {},
   "source": [
    "Types of LLM's;\n",
    "- Base LLM models: it will complete the input sentences.\n",
    "\n",
    "  Example : what is the captial of france?\n",
    "  Answer of it according to Base LLM Model : what is france's largest city\n",
    "\n",
    "- Instruction Tuned LLM models: it will give the answer of the input\n",
    "  \n",
    "  Trained on reinforcement learning(based on reward mechanism) with Human Feedback\n",
    "  \n",
    "  Example : what is the captial of france?\n",
    "  Answer of it according to Instruction Tuned LLM Model : Paris\n",
    "\n",
    "  For illegal inputs the reward is in negative so it will not produce the answer"
   ]
  },
  {
   "cell_type": "markdown",
   "id": "0098db78",
   "metadata": {},
   "source": [
    "To get the output according to last prompt we PPO Proximate probabilities output but still with reinforcement reward models"
   ]
  },
  {
   "cell_type": "code",
   "execution_count": null,
   "id": "028934b8",
   "metadata": {},
   "outputs": [],
   "source": []
  },
  {
   "cell_type": "code",
   "execution_count": null,
   "id": "9f5fc3c0",
   "metadata": {},
   "outputs": [],
   "source": []
  },
  {
   "cell_type": "code",
   "execution_count": null,
   "id": "04b30aa8",
   "metadata": {},
   "outputs": [],
   "source": []
  },
  {
   "cell_type": "code",
   "execution_count": null,
   "id": "01c9b404",
   "metadata": {},
   "outputs": [],
   "source": []
  },
  {
   "cell_type": "code",
   "execution_count": null,
   "id": "4807ecaf",
   "metadata": {},
   "outputs": [],
   "source": []
  }
 ],
 "metadata": {
  "kernelspec": {
   "display_name": "Python 3 (ipykernel)",
   "language": "python",
   "name": "python3"
  },
  "language_info": {
   "codemirror_mode": {
    "name": "ipython",
    "version": 3
   },
   "file_extension": ".py",
   "mimetype": "text/x-python",
   "name": "python",
   "nbconvert_exporter": "python",
   "pygments_lexer": "ipython3",
   "version": "3.10.6"
  }
 },
 "nbformat": 4,
 "nbformat_minor": 5
}
