{
 "cells": [
  {
   "cell_type": "code",
   "execution_count": null,
   "id": "7e5f1e1f",
   "metadata": {},
   "outputs": [],
   "source": []
  },
  {
   "cell_type": "markdown",
   "id": "5252f054",
   "metadata": {},
   "source": [
    "## Session 2"
   ]
  },
  {
   "cell_type": "markdown",
   "id": "6b28d102",
   "metadata": {},
   "source": []
  },
  {
   "cell_type": "markdown",
   "id": "dd27e189",
   "metadata": {},
   "source": []
  },
  {
   "cell_type": "markdown",
   "id": "5495ff9d",
   "metadata": {},
   "source": []
  },
  {
   "cell_type": "markdown",
   "id": "b5cb42f3",
   "metadata": {},
   "source": []
  },
  {
   "cell_type": "markdown",
   "id": "b26601b3",
   "metadata": {},
   "source": []
  },
  {
   "cell_type": "markdown",
   "id": "654deba0",
   "metadata": {},
   "source": []
  }
 ],
 "metadata": {
  "kernelspec": {
   "display_name": "Python 3 (ipykernel)",
   "language": "python",
   "name": "python3"
  }
 },
 "nbformat": 4,
 "nbformat_minor": 5
}
